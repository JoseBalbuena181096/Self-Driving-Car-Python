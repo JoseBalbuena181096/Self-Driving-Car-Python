{
 "cells": [
  {
   "cell_type": "code",
   "execution_count": null,
   "metadata": {},
   "outputs": [],
   "source": [
    "import numpy as np\n",
    "import matplotlib.pyplot as plt\n",
    "#%matplotlib inline"
   ]
  },
  {
   "cell_type": "code",
   "execution_count": null,
   "metadata": {},
   "outputs": [],
   "source": [
    "def draw(x1,x2):\n",
    "    ln=plt.plot(x1,x2,\"-\")\n",
    "    plt.pause(0.0001)\n",
    "    ln[0].remove()\n",
    "def sigmoid(score):\n",
    "    return 1/(1+np.exp(-score))\n",
    "def calculate_error(line_parameters,points,y):\n",
    "    n=points.shape[0]\n",
    "    p=sigmoid(points*line_parameters)\n",
    "    cross_entropy=-(1/n)*(np.log(p).T*y+np.log(1-p).T*(1-y))\n",
    "    return cross_entropy\n",
    "def gradient_descent(line_parameters,points,y,alpha):\n",
    "    n=points.shape[0]\n",
    "    for i in range(2000):\n",
    "        p=sigmoid(points*line_parameters)\n",
    "        gradient=points.T*(p-y)*(alpha/n)\n",
    "        line_parameters=line_parameters-gradient\n",
    "        w1=line_parameters.item(0)\n",
    "        w2=line_parameters.item(1)\n",
    "        b=line_parameters.item(2)\n",
    "        x1=np.array([points[:,0].min(),points[:,0].max()])\n",
    "        x2=-b/w2+(x1*(-w1/w2))\n",
    "        draw(x1,x2)\n",
    "        error=calculate_error(line_parameters,points,y)"
   ]
  },
  {
   "cell_type": "code",
   "execution_count": null,
   "metadata": {},
   "outputs": [],
   "source": [
    "n_pts=100\n",
    "np.random.seed(0)\n",
    "bias=np.ones(n_pts)\n",
    "top_region=np.array([np.random.normal(10,2,n_pts),np.random.normal(12,2,n_pts),bias]).T\n",
    "bottom_region=np.array([np.random.normal(5,2,n_pts),np.random.normal(5,2,n_pts),bias]).T\n",
    "all_points=np.vstack((top_region,bottom_region))\n",
    "linear_parameters=np.matrix([np.zeros(3)]).T\n",
    "y=np.array([np.zeros(n_pts),np.ones(n_pts)]).reshape(n_pts*2,1)\n",
    "_,ax=plt.subplots(figsize=(4,4))\n",
    "ax.scatter(top_region[:,0],top_region[:,1],color=\"r\")\n",
    "ax.scatter(bottom_region[:,0],bottom_region[:,1],color=\"b\")\n",
    "gradient_descent(linear_parameters,all_points,y,0.06)\n",
    "plt.show()\n"
   ]
  }
 ],
 "metadata": {
  "kernelspec": {
   "display_name": "Python 3",
   "language": "python",
   "name": "python3"
  },
  "language_info": {
   "codemirror_mode": {
    "name": "ipython",
    "version": 3
   },
   "file_extension": ".py",
   "mimetype": "text/x-python",
   "name": "python",
   "nbconvert_exporter": "python",
   "pygments_lexer": "ipython3",
   "version": "3.6.7"
  }
 },
 "nbformat": 4,
 "nbformat_minor": 2
}
