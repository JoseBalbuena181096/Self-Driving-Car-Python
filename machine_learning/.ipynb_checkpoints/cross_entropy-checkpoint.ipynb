{
 "cells": [
  {
   "cell_type": "code",
   "execution_count": 2,
   "metadata": {},
   "outputs": [],
   "source": [
    "import numpy as np\n",
    "import matplotlib.pyplot as plt\n",
    "%matplotlib inline"
   ]
  },
  {
   "cell_type": "code",
   "execution_count": 3,
   "metadata": {},
   "outputs": [],
   "source": [
    "def draw(x1,x2):\n",
    "    ln=plt.plot(x1,x2)\n",
    "def sigmoid(score):\n",
    "    return (1/(1+np.exp(-score)))\n",
    "def calculate_error(line_parameters,points,y):\n",
    "    n=points.shape[0]\n",
    "    print(\"n \\n\",n)\n",
    "    print(\"points*line_parameters \\n\",points*line_parameters)\n",
    "    p=sigmoid(points*line_parameters)\n",
    "    print(\"p :\\n\",p)\n",
    "    ln_p=np.log(p).T#ln(p)\n",
    "    print(\"ln(p) transponced\\n\",ln_p)\n",
    "    ln_1_less_p=np.log(1-p).T#ln(1-p)\n",
    "    print(\"ln(1-p) transponced\\n\",ln_1_less_p)\n",
    "    cross_entropy=-(1/n)*(ln_p*y+ln_1_less_p*(1-y))\n",
    "    print(\"cross entropy\",cross_entropy)\n",
    "    return cross_entropy"
   ]
  },
  {
   "cell_type": "code",
   "execution_count": 6,
   "metadata": {},
   "outputs": [
    {
     "name": "stdout",
     "output_type": "stream",
     "text": [
      "all points \n",
      " [[13.52810469 12.28808714  1.        ]\n",
      " [10.80031442 14.90854701  1.        ]\n",
      " [11.95747597 13.52207545  1.        ]\n",
      " [14.4817864  12.24335003  1.        ]\n",
      " [13.73511598 12.88772647  1.        ]\n",
      " [ 8.04544424 12.66734865  1.        ]\n",
      " [11.90017684 14.98815815  1.        ]\n",
      " [ 9.69728558 11.58968347  1.        ]\n",
      " [ 9.7935623  12.6261354   1.        ]\n",
      " [10.821197   10.29180852  1.        ]\n",
      " [-0.10597963  6.30989485  1.        ]\n",
      " [ 6.30723719  6.75632504  1.        ]\n",
      " [ 6.7288724   4.2244285   1.        ]\n",
      " [ 3.51566996  2.03840706  1.        ]\n",
      " [ 9.53950925  5.3041757   1.        ]\n",
      " [ 2.09126865  6.31269794  1.        ]\n",
      " [ 5.09151703  8.46058136  1.        ]\n",
      " [ 4.6256323   8.4047597   1.        ]\n",
      " [ 8.06555843  5.22534637  1.        ]\n",
      " [ 7.93871754  5.3953945   1.        ]]\n",
      "Line parameters \n",
      " [[-0.1]\n",
      " [-0.5]\n",
      " [ 0. ]]\n",
      "x1 \n",
      " [-0.10597963 14.4817864 ]\n",
      "x2 \n",
      " [ 0.02119593 -2.89635728]\n",
      "y \n",
      " [[0.]\n",
      " [0.]\n",
      " [0.]\n",
      " [0.]\n",
      " [0.]\n",
      " [0.]\n",
      " [0.]\n",
      " [0.]\n",
      " [0.]\n",
      " [0.]\n",
      " [1.]\n",
      " [1.]\n",
      " [1.]\n",
      " [1.]\n",
      " [1.]\n",
      " [1.]\n",
      " [1.]\n",
      " [1.]\n",
      " [1.]\n",
      " [1.]]\n"
     ]
    },
    {
     "data": {
      "image/png": "[encoded data removed]",
      "text/plain": [
       "<Figure size 288x288 with 1 Axes>"
      ]
     },
     "metadata": {
      "needs_background": "light"
     },
     "output_type": "display_data"
    },
    {
     "name": "stdout",
     "output_type": "stream",
     "text": [
      "n \n",
      " 20\n",
      "p :\n",
      " [[5.54519429e-04]\n",
      " [1.96568117e-04]\n",
      " [3.50154687e-04]\n",
      " [5.15502043e-04]\n",
      " [4.02515309e-04]\n",
      " [7.93535245e-04]\n",
      " [1.69227601e-04]\n",
      " [1.15261319e-03]\n",
      " [6.80213134e-04]\n",
      " [1.96946103e-03]\n",
      " [4.13145034e-02]\n",
      " [1.78299254e-02]\n",
      " [5.81345931e-02]\n",
      " [2.02495385e-01]\n",
      " [2.64410983e-02]\n",
      " [3.33920275e-02]\n",
      " [8.66773384e-03]\n",
      " [9.33188010e-03]\n",
      " [3.16998849e-02]\n",
      " [2.95530724e-02]]\n",
      "ln(p) transponced\n",
      " [[-7.49740871 -8.53450154 -7.95713554 -7.57036929 -7.81777743 -7.1390126\n",
      "  -8.684266   -6.76572357 -7.29310438 -6.22999536 -3.18654167 -4.02687703\n",
      "  -2.84499439 -1.59703818 -3.63283573 -3.39943811 -4.7481479  -4.67431877\n",
      "  -3.45144223 -3.52156757]]\n",
      "ln(1-p) transponced\n",
      " [[-5.54673231e-04 -1.96587439e-04 -3.50216006e-04 -5.15634960e-04\n",
      "  -4.02596340e-04 -7.93850261e-04 -1.69241921e-04 -1.15327796e-03\n",
      "  -6.80444584e-04 -1.97140297e-03 -4.21922072e-02 -1.79907935e-02\n",
      "  -5.98928947e-02 -2.26267657e-01 -2.67969509e-02 -3.39622716e-02\n",
      "  -8.70551714e-03 -9.37569488e-03 -3.22132035e-02 -2.99985635e-02]]\n",
      "cross entropy [[1.75449948]]\n",
      "[[1.75449948]]\n"
     ]
    }
   ],
   "source": [
    "n_pts=10\n",
    "np.random.seed(0)\n",
    "bias=np.ones(n_pts)\n",
    "top_region=np.array([np.random.normal(10,2,n_pts),np.random.normal(12,2,n_pts),bias]).T\n",
    "bottom_region=np.array([np.random.normal(5,2,n_pts),np.random.normal(6,2,n_pts),bias]).T\n",
    "all_points=np.vstack((top_region,bottom_region))\n",
    "print(\"all points \\n\",all_points)\n",
    "w1=-0.1\n",
    "w2=-0.5\n",
    "b=0\n",
    "line_parameters=np.matrix([w1,w2,b]).T\n",
    "print(\"Line parameters \\n\",line_parameters)\n",
    "x1=np.array([bottom_region[:,0].min(),top_region[:,0].max()])\n",
    "print(\"x1 \\n\",x1)\n",
    "x2=-b/w2+(x1*(-w1/w2))\n",
    "print(\"x2 \\n\",x2)\n",
    "y=np.array([np.zeros(n_pts),np.ones(n_pts)]).reshape(n_pts*2,1)\n",
    "print(\"y \\n\",y)\n",
    "_,ax=plt.subplots(figsize=(4,4))\n",
    "ax.scatter(top_region[:,0],top_region[:,1],color=\"r\")\n",
    "ax.scatter(bottom_region[:,0],bottom_region[:,1],color=\"b\")\n",
    "draw(x1,x2)\n",
    "plt.show()\n",
    "print(calculate_error(line_parameters,all_points,y))\n"
   ]
  }
 ],
 "metadata": {
  "kernelspec": {
   "display_name": "Python 3",
   "language": "python",
   "name": "python3"
  },
  "language_info": {
   "codemirror_mode": {
    "name": "ipython",
    "version": 3
   },
   "file_extension": ".py",
   "mimetype": "text/x-python",
   "name": "python",
   "nbconvert_exporter": "python",
   "pygments_lexer": "ipython3",
   "version": "3.6.7"
  }
 },
 "nbformat": 4,
 "nbformat_minor": 2
}
