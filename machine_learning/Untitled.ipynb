{
 "cells": [
  {
   "cell_type": "code",
   "execution_count": 2,
   "metadata": {},
   "outputs": [],
   "source": [
    "import numpy as np\n",
    "import matplotlib.pyplot as plt\n",
    "%matplotlib inline"
   ]
  },
  {
   "cell_type": "code",
   "execution_count": 3,
   "metadata": {},
   "outputs": [],
   "source": [
    "def draw(x1,x2):\n",
    "    ln=plt.plot(x1,x2)\n",
    "def sigmoid(score):\n",
    "    return (1/(1+np.exp(-score)))\n",
    "def calculate_error(line_parameters,points,y):\n",
    "    n=points.shape[0]\n",
    "    print(\"n \\n\",n)\n",
    "    p=sigmoid(points*line_parameters)\n",
    "    print(\"p :\\n\",p)\n",
    "    ln_p=np.log(p).T#ln(p)\n",
    "    print(\"ln(p) transponced\\n\",ln_p)\n",
    "    ln_1_less_p=np.log(1-p).T#ln(1-p)\n",
    "    print(\"ln(1-p) transponced\\n\",ln_1_less_p)\n",
    "    cross_entropy=-(1/n)*(ln_p*y+ln_1_less_p*(1-y))\n",
    "    print(\"cross entropy\",cross_entropy)\n",
    "    return cross_entropy"
   ]
  },
  {
   "cell_type": "code",
   "execution_count": null,
   "metadata": {},
   "outputs": [],
   "source": [
    "n_pts=10\n",
    "np.random.seed(0)\n",
    "bias=np.ones(n_pts)\n",
    "top_region=np.array([np.random.normal(10,2,n_pts),np.random.normal(12,2,n_pts),bias]).T\n",
    "bottom_region=np.array([np.random.norma(5,2,n_pts),np.ramdom.normal(6,2,n_pts),bias]).T\n",
    "all_points=np.vstack((top_region,bottom_region))\n",
    "print(\"all points \\n\",all_points)\n",
    "w1=-0.1\n",
    "w2=-0.5\n",
    "b=0\n",
    "line_parameters=np.matrix([w1,w2,b]).T\n",
    "print(\"Line parameters \\n\",line_parameters)\n",
    "x1=np.array([bottom_region[:,0].min(),top_region[:,0].max()])\n",
    "print(\"x1 \\n\",x1)\n",
    "x2=-b/w2+(x1*(-w1/w2))\n",
    "print(\"x2 \\n\",x2)\n",
    "y=np.array([np.zeros(n_pts),np.ones(n_pts)]).reshape(n_pts*2,1)\n",
    "print(\"y \\n\",y)\n",
    "_,ax=plt.subplots(figsize=(4,4))\n",
    "ax.scatter(top_region[:,0],top_region[:,1],color=\"r\")\n",
    "ax.scatter(bottom_region[:,0],bottom_region[:,1],color=\"b\")\n",
    "draw(x1,x2)\n",
    "plt.show()\n",
    "print(calculate_error(line_parameters,all_points,y))\n"
   ]
  }
 ],
 "metadata": {
  "kernelspec": {
   "display_name": "Python 3",
   "language": "python",
   "name": "python3"
  },
  "language_info": {
   "codemirror_mode": {
    "name": "ipython",
    "version": 3
   },
   "file_extension": ".py",
   "mimetype": "text/x-python",
   "name": "python",
   "nbconvert_exporter": "python",
   "pygments_lexer": "ipython3",
   "version": "3.6.7"
  }
 },
 "nbformat": 4,
 "nbformat_minor": 2
}
